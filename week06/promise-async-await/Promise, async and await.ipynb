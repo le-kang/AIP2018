{
 "cells": [
  {
   "cell_type": "code",
   "execution_count": 15,
   "metadata": {},
   "outputs": [
    {
     "name": "stdout",
     "output_type": "stream",
     "text": [
      "Failed!\n"
     ]
    }
   ],
   "source": [
    "/********\n",
    " Promise\n",
    "********/\n",
    "(function () {\n",
    "    // The Promise object represents the eventual completion \n",
    "    // (or failure) of an asynchronous operation, and its resulting value.\n",
    "\n",
    "    // The resulting promise object has internal properties:\n",
    "    // * state — initially “pending”, then changes to \n",
    "    //           either “fulfilled” or “rejected”,\n",
    "    // * result — an arbitrary value of your choosing, initially undefined.\n",
    "\n",
    "    let promise = new Promise(function(resolve, reject) {\n",
    "        // The \"executer\" function is executed \n",
    "        // automatically when the promise is constructed\n",
    "        if (Math.random() < 0.5) {  \n",
    "          /*\n",
    "\n",
    "          --------------------                     ---------------------\n",
    "           state:   \"pending\"    resolve('done')    state:  \"fulfilled\" \n",
    "           result:  undefined   ---------------->   result: \"done\"\n",
    "          --------------------                     ---------------------\n",
    "\n",
    "          */\n",
    "          setTimeout(() => resolve('Done!'), 1000);\n",
    "        } else {\n",
    "          /*\n",
    "\n",
    "          --------------------                     ---------------------\n",
    "           state:   \"pending\"    reject(error)      state:  \"rejected\" \n",
    "           result:  undefined   ---------------->   result: error\n",
    "          --------------------                     ---------------------\n",
    "\n",
    "          */\n",
    "          setTimeout(() => reject(new Error('Failed!')), 1000); // Using Error objects is recommended.\n",
    "        }\n",
    "        // Note that there can be only a single result or an error. \n",
    "        // The promise's state change is final.\n",
    "    });\n",
    "\n",
    "    // Consumers:\n",
    "    promise.then(\n",
    "        result => { // Runs when the Promise is fulfilled\n",
    "          /* handle a successful result */ \n",
    "          console.log(result);\n",
    "        },\n",
    "        error => { // Runs when the Promise is rejected\n",
    "          /* handle an error */\n",
    "          console.log(error.message);\n",
    "        }\n",
    "    );\n",
    "\n",
    "    // promise\n",
    "    //   .then(result => console.log(result))\n",
    "    //   .catch(error => console.log(error.message)) // Only deals with rejected cases \n",
    "})();"
   ]
  },
  {
   "cell_type": "code",
   "execution_count": 17,
   "metadata": {},
   "outputs": [
    {
     "name": "stdout",
     "output_type": "stream",
     "text": [
      "Calling...\n",
      "Promise { <pending> }\n",
      "Failed!\n",
      "Finished!\n",
      "Promise { 1 }\n"
     ]
    }
   ],
   "source": [
    "/***********\n",
    " async/await\n",
    "************/\n",
    "(function() {\n",
    "    async function f() {\n",
    "        let promise = new Promise((resolve, reject) => {\n",
    "            if (Math.random() < 0.5) {\n",
    "                setTimeout(() => resolve('Done!'), 1000);\n",
    "            } else {\n",
    "                setTimeout(() => reject(new Error('Failed!')), 1000); \n",
    "            }\n",
    "        });\n",
    "        console.log('Calling...')\n",
    "        try {\n",
    "            let result = await promise;\n",
    "            console.log(result);\n",
    "        } catch (error) {\n",
    "            console.log(error.message);\n",
    "        }\n",
    "        console.log('Finished!');\n",
    "        return 1; \n",
    "        // return Promise.resolve(1)\n",
    "    }\n",
    "    let ret = f();\n",
    "    console.log(ret)\n",
    "    setTimeout(() => console.log(ret), 1100)\n",
    "    // The \"async\" keyword before a function has two effects:\n",
    "    // * Makes it always return a promise.\n",
    "    // * Allows to use await in it.\n",
    "    \n",
    "    // The \"await\" keyword before a promise makes JavaScript wait \n",
    "    // until that promise settles, and then:\n",
    "    // * If it’s an error, the exception is generated, same as \n",
    "    //    if throw error were called at that very place.\n",
    "    // * Otherwise, it returns the result, so we can assign it to a value.\n",
    "    \n",
    "    // Note: \"await\" literally makes JavaScript wait until the promise settles, \n",
    "    // and then go on with the result. That doesn’t cost any CPU resources, \n",
    "    // because the engine can do other jobs meanwhile: execute other scripts, \n",
    "    // handle events etc.\n",
    "})();"
   ]
  }
 ],
 "metadata": {
  "kernelspec": {
   "display_name": "Javascript (Node.js)",
   "language": "javascript",
   "name": "javascript"
  },
  "language_info": {
   "file_extension": ".js",
   "mimetype": "application/javascript",
   "name": "javascript",
   "version": "8.11.3"
  }
 },
 "nbformat": 4,
 "nbformat_minor": 2
}
